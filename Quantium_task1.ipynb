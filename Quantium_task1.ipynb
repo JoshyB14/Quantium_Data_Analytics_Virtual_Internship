{
 "metadata": {
  "language_info": {
   "codemirror_mode": {
    "name": "ipython",
    "version": 3
   },
   "file_extension": ".py",
   "mimetype": "text/x-python",
   "name": "python",
   "nbconvert_exporter": "python",
   "pygments_lexer": "ipython3",
   "version": "3.7.8-final"
  },
  "orig_nbformat": 2,
  "kernelspec": {
   "name": "python3",
   "display_name": "Python 3",
   "language": "python"
  }
 },
 "nbformat": 4,
 "nbformat_minor": 2,
 "cells": [
  {
   "source": [
    "# Quantium Data Analytics Virtual Experience - Task1 - Josh Bryden"
   ],
   "cell_type": "markdown",
   "metadata": {}
  },
  {
   "cell_type": "code",
   "execution_count": 20,
   "metadata": {},
   "outputs": [],
   "source": [
    "import pandas as pd\n",
    "import numpy as np \n",
    "import seaborn as sns\n",
    "import matplotlib.pyplot as plt \n",
    "\n",
    "#Pandas settings\n",
    "pd.set_option('display.max_columns', None)\n",
    "pd.set_option('display.max_rows', None)\n",
    "\n",
    "# seaborn settings\n",
    "sns.set_style(\"darkgrid\")"
   ]
  },
  {
   "source": [
    "## Data importing"
   ],
   "cell_type": "markdown",
   "metadata": {}
  },
  {
   "cell_type": "code",
   "execution_count": 21,
   "metadata": {},
   "outputs": [
    {
     "output_type": "execute_result",
     "data": {
      "text/plain": [
       "   LYLTY_CARD_NBR               LIFESTAGE PREMIUM_CUSTOMER\n",
       "0            1000   YOUNG SINGLES/COUPLES          Premium\n",
       "1            1002   YOUNG SINGLES/COUPLES       Mainstream\n",
       "2            1003          YOUNG FAMILIES           Budget\n",
       "3            1004   OLDER SINGLES/COUPLES       Mainstream\n",
       "4            1005  MIDAGE SINGLES/COUPLES       Mainstream"
      ],
      "text/html": "<div>\n<style scoped>\n    .dataframe tbody tr th:only-of-type {\n        vertical-align: middle;\n    }\n\n    .dataframe tbody tr th {\n        vertical-align: top;\n    }\n\n    .dataframe thead th {\n        text-align: right;\n    }\n</style>\n<table border=\"1\" class=\"dataframe\">\n  <thead>\n    <tr style=\"text-align: right;\">\n      <th></th>\n      <th>LYLTY_CARD_NBR</th>\n      <th>LIFESTAGE</th>\n      <th>PREMIUM_CUSTOMER</th>\n    </tr>\n  </thead>\n  <tbody>\n    <tr>\n      <th>0</th>\n      <td>1000</td>\n      <td>YOUNG SINGLES/COUPLES</td>\n      <td>Premium</td>\n    </tr>\n    <tr>\n      <th>1</th>\n      <td>1002</td>\n      <td>YOUNG SINGLES/COUPLES</td>\n      <td>Mainstream</td>\n    </tr>\n    <tr>\n      <th>2</th>\n      <td>1003</td>\n      <td>YOUNG FAMILIES</td>\n      <td>Budget</td>\n    </tr>\n    <tr>\n      <th>3</th>\n      <td>1004</td>\n      <td>OLDER SINGLES/COUPLES</td>\n      <td>Mainstream</td>\n    </tr>\n    <tr>\n      <th>4</th>\n      <td>1005</td>\n      <td>MIDAGE SINGLES/COUPLES</td>\n      <td>Mainstream</td>\n    </tr>\n  </tbody>\n</table>\n</div>"
     },
     "metadata": {},
     "execution_count": 21
    }
   ],
   "source": [
    "purchase_data = pd.read_csv('data/QVI_purchase_behaviour.csv')\n",
    "purchase_data.head()"
   ]
  },
  {
   "cell_type": "code",
   "execution_count": 22,
   "metadata": {},
   "outputs": [
    {
     "output_type": "execute_result",
     "data": {
      "text/plain": [
       "(72637, 3)"
      ]
     },
     "metadata": {},
     "execution_count": 22
    }
   ],
   "source": [
    "purchase_data.shape"
   ]
  },
  {
   "cell_type": "code",
   "execution_count": 23,
   "metadata": {},
   "outputs": [
    {
     "output_type": "execute_result",
     "data": {
      "text/plain": [
       "LYLTY_CARD_NBR       int64\n",
       "LIFESTAGE           object\n",
       "PREMIUM_CUSTOMER    object\n",
       "dtype: object"
      ]
     },
     "metadata": {},
     "execution_count": 23
    }
   ],
   "source": [
    "purchase_data.dtypes "
   ]
  },
  {
   "cell_type": "code",
   "execution_count": 24,
   "metadata": {},
   "outputs": [
    {
     "output_type": "execute_result",
     "data": {
      "text/plain": [
       "LYLTY_CARD_NBR      72637\n",
       "LIFESTAGE               7\n",
       "PREMIUM_CUSTOMER        3\n",
       "dtype: int64"
      ]
     },
     "metadata": {},
     "execution_count": 24
    }
   ],
   "source": [
    "purchase_data.nunique() "
   ]
  },
  {
   "cell_type": "code",
   "execution_count": 25,
   "metadata": {},
   "outputs": [
    {
     "output_type": "execute_result",
     "data": {
      "text/plain": [
       "LYLTY_CARD_NBR      0\n",
       "LIFESTAGE           0\n",
       "PREMIUM_CUSTOMER    0\n",
       "dtype: int64"
      ]
     },
     "metadata": {},
     "execution_count": 25
    }
   ],
   "source": [
    "purchase_data.isnull().sum() # missing values - none"
   ]
  },
  {
   "cell_type": "code",
   "execution_count": 26,
   "metadata": {},
   "outputs": [
    {
     "output_type": "execute_result",
     "data": {
      "text/plain": [
       "    DATE  STORE_NBR  LYLTY_CARD_NBR  TXN_ID  PROD_NBR  \\\n",
       "0  43390          1            1000       1         5   \n",
       "1  43599          1            1307     348        66   \n",
       "2  43605          1            1343     383        61   \n",
       "3  43329          2            2373     974        69   \n",
       "4  43330          2            2426    1038       108   \n",
       "\n",
       "                                  PROD_NAME  PROD_QTY  TOT_SALES  \n",
       "0    Natural Chip        Compny SeaSalt175g         2        6.0  \n",
       "1                  CCs Nacho Cheese    175g         3        6.3  \n",
       "2    Smiths Crinkle Cut  Chips Chicken 170g         2        2.9  \n",
       "3    Smiths Chip Thinly  S/Cream&Onion 175g         5       15.0  \n",
       "4  Kettle Tortilla ChpsHny&Jlpno Chili 150g         3       13.8  "
      ],
      "text/html": "<div>\n<style scoped>\n    .dataframe tbody tr th:only-of-type {\n        vertical-align: middle;\n    }\n\n    .dataframe tbody tr th {\n        vertical-align: top;\n    }\n\n    .dataframe thead th {\n        text-align: right;\n    }\n</style>\n<table border=\"1\" class=\"dataframe\">\n  <thead>\n    <tr style=\"text-align: right;\">\n      <th></th>\n      <th>DATE</th>\n      <th>STORE_NBR</th>\n      <th>LYLTY_CARD_NBR</th>\n      <th>TXN_ID</th>\n      <th>PROD_NBR</th>\n      <th>PROD_NAME</th>\n      <th>PROD_QTY</th>\n      <th>TOT_SALES</th>\n    </tr>\n  </thead>\n  <tbody>\n    <tr>\n      <th>0</th>\n      <td>43390</td>\n      <td>1</td>\n      <td>1000</td>\n      <td>1</td>\n      <td>5</td>\n      <td>Natural Chip        Compny SeaSalt175g</td>\n      <td>2</td>\n      <td>6.0</td>\n    </tr>\n    <tr>\n      <th>1</th>\n      <td>43599</td>\n      <td>1</td>\n      <td>1307</td>\n      <td>348</td>\n      <td>66</td>\n      <td>CCs Nacho Cheese    175g</td>\n      <td>3</td>\n      <td>6.3</td>\n    </tr>\n    <tr>\n      <th>2</th>\n      <td>43605</td>\n      <td>1</td>\n      <td>1343</td>\n      <td>383</td>\n      <td>61</td>\n      <td>Smiths Crinkle Cut  Chips Chicken 170g</td>\n      <td>2</td>\n      <td>2.9</td>\n    </tr>\n    <tr>\n      <th>3</th>\n      <td>43329</td>\n      <td>2</td>\n      <td>2373</td>\n      <td>974</td>\n      <td>69</td>\n      <td>Smiths Chip Thinly  S/Cream&amp;Onion 175g</td>\n      <td>5</td>\n      <td>15.0</td>\n    </tr>\n    <tr>\n      <th>4</th>\n      <td>43330</td>\n      <td>2</td>\n      <td>2426</td>\n      <td>1038</td>\n      <td>108</td>\n      <td>Kettle Tortilla ChpsHny&amp;Jlpno Chili 150g</td>\n      <td>3</td>\n      <td>13.8</td>\n    </tr>\n  </tbody>\n</table>\n</div>"
     },
     "metadata": {},
     "execution_count": 26
    }
   ],
   "source": [
    "transaction_data = pd.read_csv('data/QVI_transaction_data.csv')\n",
    "transaction_data.head()"
   ]
  },
  {
   "cell_type": "code",
   "execution_count": 27,
   "metadata": {},
   "outputs": [
    {
     "output_type": "execute_result",
     "data": {
      "text/plain": [
       "(264836, 8)"
      ]
     },
     "metadata": {},
     "execution_count": 27
    }
   ],
   "source": [
    "transaction_data.shape "
   ]
  },
  {
   "cell_type": "code",
   "execution_count": 28,
   "metadata": {},
   "outputs": [
    {
     "output_type": "execute_result",
     "data": {
      "text/plain": [
       "DATE                int64\n",
       "STORE_NBR           int64\n",
       "LYLTY_CARD_NBR      int64\n",
       "TXN_ID              int64\n",
       "PROD_NBR            int64\n",
       "PROD_NAME          object\n",
       "PROD_QTY            int64\n",
       "TOT_SALES         float64\n",
       "dtype: object"
      ]
     },
     "metadata": {},
     "execution_count": 28
    }
   ],
   "source": [
    "transaction_data.dtypes "
   ]
  },
  {
   "source": [
    "Date encoded above as int - we will need to change to datetime"
   ],
   "cell_type": "markdown",
   "metadata": {}
  },
  {
   "cell_type": "code",
   "execution_count": 29,
   "metadata": {},
   "outputs": [
    {
     "output_type": "execute_result",
     "data": {
      "text/plain": [
       "DATE                 364\n",
       "STORE_NBR            272\n",
       "LYLTY_CARD_NBR     72637\n",
       "TXN_ID            263127\n",
       "PROD_NBR             114\n",
       "PROD_NAME            114\n",
       "PROD_QTY               6\n",
       "TOT_SALES            112\n",
       "dtype: int64"
      ]
     },
     "metadata": {},
     "execution_count": 29
    }
   ],
   "source": [
    "transaction_data.nunique()"
   ]
  },
  {
   "cell_type": "code",
   "execution_count": 30,
   "metadata": {},
   "outputs": [
    {
     "output_type": "execute_result",
     "data": {
      "text/plain": [
       "DATE              0\n",
       "STORE_NBR         0\n",
       "LYLTY_CARD_NBR    0\n",
       "TXN_ID            0\n",
       "PROD_NBR          0\n",
       "PROD_NAME         0\n",
       "PROD_QTY          0\n",
       "TOT_SALES         0\n",
       "dtype: int64"
      ]
     },
     "metadata": {},
     "execution_count": 30
    }
   ],
   "source": [
    "transaction_data.isnull().sum() # missing values - none"
   ]
  },
  {
   "source": [
    "## Data cleaning"
   ],
   "cell_type": "markdown",
   "metadata": {}
  },
  {
   "source": [
    "# merge the two datasets on the loyalty card number\n",
    "chips_data = pd.merge(transaction_data, purchase_data, on='LYLTY_CARD_NBR', how='left')\n",
    "chips_data.head()"
   ],
   "cell_type": "code",
   "metadata": {},
   "execution_count": 31,
   "outputs": [
    {
     "output_type": "execute_result",
     "data": {
      "text/plain": [
       "    DATE  STORE_NBR  LYLTY_CARD_NBR  TXN_ID  PROD_NBR  \\\n",
       "0  43390          1            1000       1         5   \n",
       "1  43599          1            1307     348        66   \n",
       "2  43605          1            1343     383        61   \n",
       "3  43329          2            2373     974        69   \n",
       "4  43330          2            2426    1038       108   \n",
       "\n",
       "                                  PROD_NAME  PROD_QTY  TOT_SALES  \\\n",
       "0    Natural Chip        Compny SeaSalt175g         2        6.0   \n",
       "1                  CCs Nacho Cheese    175g         3        6.3   \n",
       "2    Smiths Crinkle Cut  Chips Chicken 170g         2        2.9   \n",
       "3    Smiths Chip Thinly  S/Cream&Onion 175g         5       15.0   \n",
       "4  Kettle Tortilla ChpsHny&Jlpno Chili 150g         3       13.8   \n",
       "\n",
       "                LIFESTAGE PREMIUM_CUSTOMER  \n",
       "0   YOUNG SINGLES/COUPLES          Premium  \n",
       "1  MIDAGE SINGLES/COUPLES           Budget  \n",
       "2  MIDAGE SINGLES/COUPLES           Budget  \n",
       "3  MIDAGE SINGLES/COUPLES           Budget  \n",
       "4  MIDAGE SINGLES/COUPLES           Budget  "
      ],
      "text/html": "<div>\n<style scoped>\n    .dataframe tbody tr th:only-of-type {\n        vertical-align: middle;\n    }\n\n    .dataframe tbody tr th {\n        vertical-align: top;\n    }\n\n    .dataframe thead th {\n        text-align: right;\n    }\n</style>\n<table border=\"1\" class=\"dataframe\">\n  <thead>\n    <tr style=\"text-align: right;\">\n      <th></th>\n      <th>DATE</th>\n      <th>STORE_NBR</th>\n      <th>LYLTY_CARD_NBR</th>\n      <th>TXN_ID</th>\n      <th>PROD_NBR</th>\n      <th>PROD_NAME</th>\n      <th>PROD_QTY</th>\n      <th>TOT_SALES</th>\n      <th>LIFESTAGE</th>\n      <th>PREMIUM_CUSTOMER</th>\n    </tr>\n  </thead>\n  <tbody>\n    <tr>\n      <th>0</th>\n      <td>43390</td>\n      <td>1</td>\n      <td>1000</td>\n      <td>1</td>\n      <td>5</td>\n      <td>Natural Chip        Compny SeaSalt175g</td>\n      <td>2</td>\n      <td>6.0</td>\n      <td>YOUNG SINGLES/COUPLES</td>\n      <td>Premium</td>\n    </tr>\n    <tr>\n      <th>1</th>\n      <td>43599</td>\n      <td>1</td>\n      <td>1307</td>\n      <td>348</td>\n      <td>66</td>\n      <td>CCs Nacho Cheese    175g</td>\n      <td>3</td>\n      <td>6.3</td>\n      <td>MIDAGE SINGLES/COUPLES</td>\n      <td>Budget</td>\n    </tr>\n    <tr>\n      <th>2</th>\n      <td>43605</td>\n      <td>1</td>\n      <td>1343</td>\n      <td>383</td>\n      <td>61</td>\n      <td>Smiths Crinkle Cut  Chips Chicken 170g</td>\n      <td>2</td>\n      <td>2.9</td>\n      <td>MIDAGE SINGLES/COUPLES</td>\n      <td>Budget</td>\n    </tr>\n    <tr>\n      <th>3</th>\n      <td>43329</td>\n      <td>2</td>\n      <td>2373</td>\n      <td>974</td>\n      <td>69</td>\n      <td>Smiths Chip Thinly  S/Cream&amp;Onion 175g</td>\n      <td>5</td>\n      <td>15.0</td>\n      <td>MIDAGE SINGLES/COUPLES</td>\n      <td>Budget</td>\n    </tr>\n    <tr>\n      <th>4</th>\n      <td>43330</td>\n      <td>2</td>\n      <td>2426</td>\n      <td>1038</td>\n      <td>108</td>\n      <td>Kettle Tortilla ChpsHny&amp;Jlpno Chili 150g</td>\n      <td>3</td>\n      <td>13.8</td>\n      <td>MIDAGE SINGLES/COUPLES</td>\n      <td>Budget</td>\n    </tr>\n  </tbody>\n</table>\n</div>"
     },
     "metadata": {},
     "execution_count": 31
    }
   ]
  },
  {
   "cell_type": "code",
   "execution_count": 32,
   "metadata": {},
   "outputs": [
    {
     "output_type": "execute_result",
     "data": {
      "text/plain": [
       "        DATE  STORE_NBR  LYLTY_CARD_NBR  TXN_ID  PROD_NBR  \\\n",
       "0 2018-10-17          1            1000       1         5   \n",
       "1 2019-05-14          1            1307     348        66   \n",
       "2 2019-05-20          1            1343     383        61   \n",
       "3 2018-08-17          2            2373     974        69   \n",
       "4 2018-08-18          2            2426    1038       108   \n",
       "\n",
       "                                  PROD_NAME  PROD_QTY  TOT_SALES  \\\n",
       "0    Natural Chip        Compny SeaSalt175g         2        6.0   \n",
       "1                  CCs Nacho Cheese    175g         3        6.3   \n",
       "2    Smiths Crinkle Cut  Chips Chicken 170g         2        2.9   \n",
       "3    Smiths Chip Thinly  S/Cream&Onion 175g         5       15.0   \n",
       "4  Kettle Tortilla ChpsHny&Jlpno Chili 150g         3       13.8   \n",
       "\n",
       "                LIFESTAGE PREMIUM_CUSTOMER  \n",
       "0   YOUNG SINGLES/COUPLES          Premium  \n",
       "1  MIDAGE SINGLES/COUPLES           Budget  \n",
       "2  MIDAGE SINGLES/COUPLES           Budget  \n",
       "3  MIDAGE SINGLES/COUPLES           Budget  \n",
       "4  MIDAGE SINGLES/COUPLES           Budget  "
      ],
      "text/html": "<div>\n<style scoped>\n    .dataframe tbody tr th:only-of-type {\n        vertical-align: middle;\n    }\n\n    .dataframe tbody tr th {\n        vertical-align: top;\n    }\n\n    .dataframe thead th {\n        text-align: right;\n    }\n</style>\n<table border=\"1\" class=\"dataframe\">\n  <thead>\n    <tr style=\"text-align: right;\">\n      <th></th>\n      <th>DATE</th>\n      <th>STORE_NBR</th>\n      <th>LYLTY_CARD_NBR</th>\n      <th>TXN_ID</th>\n      <th>PROD_NBR</th>\n      <th>PROD_NAME</th>\n      <th>PROD_QTY</th>\n      <th>TOT_SALES</th>\n      <th>LIFESTAGE</th>\n      <th>PREMIUM_CUSTOMER</th>\n    </tr>\n  </thead>\n  <tbody>\n    <tr>\n      <th>0</th>\n      <td>2018-10-17</td>\n      <td>1</td>\n      <td>1000</td>\n      <td>1</td>\n      <td>5</td>\n      <td>Natural Chip        Compny SeaSalt175g</td>\n      <td>2</td>\n      <td>6.0</td>\n      <td>YOUNG SINGLES/COUPLES</td>\n      <td>Premium</td>\n    </tr>\n    <tr>\n      <th>1</th>\n      <td>2019-05-14</td>\n      <td>1</td>\n      <td>1307</td>\n      <td>348</td>\n      <td>66</td>\n      <td>CCs Nacho Cheese    175g</td>\n      <td>3</td>\n      <td>6.3</td>\n      <td>MIDAGE SINGLES/COUPLES</td>\n      <td>Budget</td>\n    </tr>\n    <tr>\n      <th>2</th>\n      <td>2019-05-20</td>\n      <td>1</td>\n      <td>1343</td>\n      <td>383</td>\n      <td>61</td>\n      <td>Smiths Crinkle Cut  Chips Chicken 170g</td>\n      <td>2</td>\n      <td>2.9</td>\n      <td>MIDAGE SINGLES/COUPLES</td>\n      <td>Budget</td>\n    </tr>\n    <tr>\n      <th>3</th>\n      <td>2018-08-17</td>\n      <td>2</td>\n      <td>2373</td>\n      <td>974</td>\n      <td>69</td>\n      <td>Smiths Chip Thinly  S/Cream&amp;Onion 175g</td>\n      <td>5</td>\n      <td>15.0</td>\n      <td>MIDAGE SINGLES/COUPLES</td>\n      <td>Budget</td>\n    </tr>\n    <tr>\n      <th>4</th>\n      <td>2018-08-18</td>\n      <td>2</td>\n      <td>2426</td>\n      <td>1038</td>\n      <td>108</td>\n      <td>Kettle Tortilla ChpsHny&amp;Jlpno Chili 150g</td>\n      <td>3</td>\n      <td>13.8</td>\n      <td>MIDAGE SINGLES/COUPLES</td>\n      <td>Budget</td>\n    </tr>\n  </tbody>\n</table>\n</div>"
     },
     "metadata": {},
     "execution_count": 32
    }
   ],
   "source": [
    "# convert excel date time to python date time\n",
    "chips_data['DATE'] = pd.to_datetime(chips_data['DATE'], origin = \"1899-12-30\", unit='D') # origin set based off excel time, units in days since epoch (for excel this is 1/1/1900)\n",
    "# https://stackoverflow.com/a/64068366/11938664\n",
    "chips_data.head()"
   ]
  },
  {
   "cell_type": "code",
   "execution_count": 33,
   "metadata": {},
   "outputs": [
    {
     "output_type": "execute_result",
     "data": {
      "text/plain": [
       "                DATE     STORE_NBR  LYLTY_CARD_NBR        TXN_ID  \\\n",
       "count  264836.000000  264836.00000    2.648360e+05  2.648360e+05   \n",
       "mean    43464.036260     135.08011    1.355495e+05  1.351583e+05   \n",
       "std       105.389282      76.78418    8.057998e+04  7.813303e+04   \n",
       "min     43282.000000       1.00000    1.000000e+03  1.000000e+00   \n",
       "25%     43373.000000      70.00000    7.002100e+04  6.760150e+04   \n",
       "50%     43464.000000     130.00000    1.303575e+05  1.351375e+05   \n",
       "75%     43555.000000     203.00000    2.030942e+05  2.027012e+05   \n",
       "max     43646.000000     272.00000    2.373711e+06  2.415841e+06   \n",
       "\n",
       "            PROD_NBR       PROD_QTY      TOT_SALES  \n",
       "count  264836.000000  264836.000000  264836.000000  \n",
       "mean       56.583157       1.907309       7.304200  \n",
       "std        32.826638       0.643654       3.083226  \n",
       "min         1.000000       1.000000       1.500000  \n",
       "25%        28.000000       2.000000       5.400000  \n",
       "50%        56.000000       2.000000       7.400000  \n",
       "75%        85.000000       2.000000       9.200000  \n",
       "max       114.000000     200.000000     650.000000  "
      ],
      "text/html": "<div>\n<style scoped>\n    .dataframe tbody tr th:only-of-type {\n        vertical-align: middle;\n    }\n\n    .dataframe tbody tr th {\n        vertical-align: top;\n    }\n\n    .dataframe thead th {\n        text-align: right;\n    }\n</style>\n<table border=\"1\" class=\"dataframe\">\n  <thead>\n    <tr style=\"text-align: right;\">\n      <th></th>\n      <th>DATE</th>\n      <th>STORE_NBR</th>\n      <th>LYLTY_CARD_NBR</th>\n      <th>TXN_ID</th>\n      <th>PROD_NBR</th>\n      <th>PROD_QTY</th>\n      <th>TOT_SALES</th>\n    </tr>\n  </thead>\n  <tbody>\n    <tr>\n      <th>count</th>\n      <td>264836.000000</td>\n      <td>264836.00000</td>\n      <td>2.648360e+05</td>\n      <td>2.648360e+05</td>\n      <td>264836.000000</td>\n      <td>264836.000000</td>\n      <td>264836.000000</td>\n    </tr>\n    <tr>\n      <th>mean</th>\n      <td>43464.036260</td>\n      <td>135.08011</td>\n      <td>1.355495e+05</td>\n      <td>1.351583e+05</td>\n      <td>56.583157</td>\n      <td>1.907309</td>\n      <td>7.304200</td>\n    </tr>\n    <tr>\n      <th>std</th>\n      <td>105.389282</td>\n      <td>76.78418</td>\n      <td>8.057998e+04</td>\n      <td>7.813303e+04</td>\n      <td>32.826638</td>\n      <td>0.643654</td>\n      <td>3.083226</td>\n    </tr>\n    <tr>\n      <th>min</th>\n      <td>43282.000000</td>\n      <td>1.00000</td>\n      <td>1.000000e+03</td>\n      <td>1.000000e+00</td>\n      <td>1.000000</td>\n      <td>1.000000</td>\n      <td>1.500000</td>\n    </tr>\n    <tr>\n      <th>25%</th>\n      <td>43373.000000</td>\n      <td>70.00000</td>\n      <td>7.002100e+04</td>\n      <td>6.760150e+04</td>\n      <td>28.000000</td>\n      <td>2.000000</td>\n      <td>5.400000</td>\n    </tr>\n    <tr>\n      <th>50%</th>\n      <td>43464.000000</td>\n      <td>130.00000</td>\n      <td>1.303575e+05</td>\n      <td>1.351375e+05</td>\n      <td>56.000000</td>\n      <td>2.000000</td>\n      <td>7.400000</td>\n    </tr>\n    <tr>\n      <th>75%</th>\n      <td>43555.000000</td>\n      <td>203.00000</td>\n      <td>2.030942e+05</td>\n      <td>2.027012e+05</td>\n      <td>85.000000</td>\n      <td>2.000000</td>\n      <td>9.200000</td>\n    </tr>\n    <tr>\n      <th>max</th>\n      <td>43646.000000</td>\n      <td>272.00000</td>\n      <td>2.373711e+06</td>\n      <td>2.415841e+06</td>\n      <td>114.000000</td>\n      <td>200.000000</td>\n      <td>650.000000</td>\n    </tr>\n  </tbody>\n</table>\n</div>"
     },
     "metadata": {},
     "execution_count": 33
    }
   ],
   "source": [
    "transaction_data.describe()"
   ]
  },
  {
   "cell_type": "code",
   "execution_count": 34,
   "metadata": {},
   "outputs": [
    {
     "output_type": "stream",
     "name": "stdout",
     "text": [
      "['Natural Chip        Compny SeaSalt175g' 'CCs Nacho Cheese    175g'\n 'Smiths Crinkle Cut  Chips Chicken 170g'\n 'Smiths Chip Thinly  S/Cream&Onion 175g'\n 'Kettle Tortilla ChpsHny&Jlpno Chili 150g'\n 'Old El Paso Salsa   Dip Tomato Mild 300g'\n 'Smiths Crinkle Chips Salt & Vinegar 330g'\n 'Grain Waves         Sweet Chilli 210g'\n 'Doritos Corn Chip Mexican Jalapeno 150g'\n 'Grain Waves Sour    Cream&Chives 210G'\n 'Kettle Sensations   Siracha Lime 150g' 'Twisties Cheese     270g'\n 'WW Crinkle Cut      Chicken 175g' 'Thins Chips Light&  Tangy 175g'\n 'CCs Original 175g' 'Burger Rings 220g'\n 'NCC Sour Cream &    Garden Chives 175g'\n 'Doritos Corn Chip Southern Chicken 150g' 'Cheezels Cheese Box 125g'\n 'Smiths Crinkle      Original 330g'\n 'Infzns Crn Crnchers Tangy Gcamole 110g'\n 'Kettle Sea Salt     And Vinegar 175g'\n 'Smiths Chip Thinly  Cut Original 175g' 'Kettle Original 175g'\n 'Red Rock Deli Thai  Chilli&Lime 150g' 'Pringles Sthrn FriedChicken 134g'\n 'Pringles Sweet&Spcy BBQ 134g' 'Red Rock Deli SR    Salsa & Mzzrlla 150g'\n 'Thins Chips         Originl saltd 175g'\n 'Red Rock Deli Sp    Salt & Truffle 150G'\n 'Smiths Thinly       Swt Chli&S/Cream175G' 'Kettle Chilli 175g'\n 'Doritos Mexicana    170g' 'Smiths Crinkle Cut  French OnionDip 150g'\n 'Natural ChipCo      Hony Soy Chckn175g'\n 'Dorito Corn Chp     Supreme 380g' 'Twisties Chicken270g'\n 'Smiths Thinly Cut   Roast Chicken 175g'\n 'Smiths Crinkle Cut  Tomato Salsa 150g'\n 'Kettle Mozzarella   Basil & Pesto 175g'\n 'Infuzions Thai SweetChili PotatoMix 110g'\n 'Kettle Sensations   Camembert & Fig 150g'\n 'Smith Crinkle Cut   Mac N Cheese 150g'\n 'Kettle Honey Soy    Chicken 175g' 'Thins Chips Seasonedchicken 175g'\n 'Smiths Crinkle Cut  Salt & Vinegar 170g'\n 'Infuzions BBQ Rib   Prawn Crackers 110g'\n 'GrnWves Plus Btroot & Chilli Jam 180g'\n 'Tyrrells Crisps     Lightly Salted 165g'\n 'Kettle Sweet Chilli And Sour Cream 175g'\n 'Doritos Salsa       Medium 300g' 'Kettle 135g Swt Pot Sea Salt'\n 'Pringles SourCream  Onion 134g' 'Doritos Corn Chips  Original 170g'\n 'Twisties Cheese     Burger 250g'\n 'Old El Paso Salsa   Dip Chnky Tom Ht300g'\n 'Cobs Popd Swt/Chlli &Sr/Cream Chips 110g'\n 'Woolworths Mild     Salsa 300g'\n 'Natural Chip Co     Tmato Hrb&Spce 175g'\n 'Smiths Crinkle Cut  Chips Original 170g'\n 'Cobs Popd Sea Salt  Chips 110g'\n 'Smiths Crinkle Cut  Chips Chs&Onion170g'\n 'French Fries Potato Chips 175g'\n 'Old El Paso Salsa   Dip Tomato Med 300g'\n 'Doritos Corn Chips  Cheese Supreme 170g'\n 'Pringles Original   Crisps 134g' 'RRD Chilli&         Coconut 150g'\n 'WW Original Corn    Chips 200g' 'Thins Potato Chips  Hot & Spicy 175g'\n 'Cobs Popd Sour Crm  &Chives Chips 110g'\n 'Smiths Crnkle Chip  Orgnl Big Bag 380g'\n 'Doritos Corn Chips  Nacho Cheese 170g'\n 'Kettle Sensations   BBQ&Maple 150g' 'WW D/Style Chip     Sea Salt 200g'\n 'Pringles Chicken    Salt Crips 134g' 'WW Original Stacked Chips 160g'\n 'Smiths Chip Thinly  CutSalt/Vinegr175g' 'Cheezels Cheese 330g'\n 'Tostitos Lightly    Salted 175g' 'Thins Chips Salt &  Vinegar 175g'\n 'Smiths Crinkle Cut  Chips Barbecue 170g' 'Cheetos Puffs 165g'\n 'RRD Sweet Chilli &  Sour Cream 165g' 'WW Crinkle Cut      Original 175g'\n 'Tostitos Splash Of  Lime 175g' 'Woolworths Medium   Salsa 300g'\n 'Kettle Tortilla ChpsBtroot&Ricotta 150g' 'CCs Tasty Cheese    175g'\n 'Woolworths Cheese   Rings 190g' 'Tostitos Smoked     Chipotle 175g'\n 'Pringles Barbeque   134g' 'WW Supreme Cheese   Corn Chips 200g'\n 'Pringles Mystery    Flavour 134g'\n 'Tyrrells Crisps     Ched & Chives 165g'\n 'Snbts Whlgrn Crisps Cheddr&Mstrd 90g' 'Cheetos Chs & Bacon Balls 190g'\n 'Pringles Slt Vingar 134g' 'Infuzions SourCream&Herbs Veg Strws 110g'\n 'Kettle Tortilla ChpsFeta&Garlic 150g'\n 'Infuzions Mango     Chutny Papadums 70g'\n 'RRD Steak &         Chimuchurri 150g' 'RRD Honey Soy       Chicken 165g'\n 'Sunbites Whlegrn    Crisps Frch/Onin 90g' 'RRD Salt & Vinegar  165g'\n 'Doritos Cheese      Supreme 330g' 'Smiths Crinkle Cut  Snag&Sauce 150g'\n 'WW Sour Cream &OnionStacked Chips 160g' 'RRD Lime & Pepper   165g'\n 'Natural ChipCo Sea  Salt & Vinegr 175g'\n 'Red Rock Deli Chikn&Garlic Aioli 150g'\n 'RRD SR Slow Rst     Pork Belly 150g' 'RRD Pc Sea Salt     165g'\n 'Smith Crinkle Cut   Bolognese 150g' 'Doritos Salsa Mild  300g']\n"
     ]
    }
   ],
   "source": [
    "print(chips_data['PROD_NAME'].unique())"
   ]
  },
  {
   "cell_type": "code",
   "execution_count": 35,
   "metadata": {},
   "outputs": [],
   "source": [
    "# split up string by spaces\n",
    "product_words = chips_data[\"PROD_NAME\"].str.split() # default is split on whitespace"
   ]
  },
  {
   "cell_type": "code",
   "execution_count": 36,
   "metadata": {},
   "outputs": [],
   "source": [
    "def product_unique_words(list_of_words):\n",
    "    \"\"\" Counts number of times a word\n",
    "        appears in a list of words \"\"\"\n",
    "    for word in list_of_words:\n",
    "        if word not in word_count:\n",
    "            word_count[word] = 1\n",
    "        else:\n",
    "            word_count[word] +=1"
   ]
  },
  {
   "cell_type": "code",
   "execution_count": 37,
   "metadata": {},
   "outputs": [
    {
     "output_type": "stream",
     "name": "stdout",
     "text": [
      "175g                  60561\nChips                 49770\n150g                  41633\nKettle                41288\n&                     35565\nSmiths                28860\nSalt                  27976\nCheese                27890\n134g                  25102\nPringles              25102\nDoritos               24962\nCrinkle               23960\n110g                  22387\nCorn                  22063\nOriginal              21560\nCut                   20754\nChip                  18645\n170g                  18502\nSalsa                 18094\nChicken               15407\n165g                  15297\nSea                   14145\nThins                 14075\nSour                  13882\nCrisps                12607\n330g                  12540\nVinegar               12402\nChilli                12389\n300g                  12041\nRRD                   11894\nInfuzions             11057\nSupreme               10963\nWW                    10320\nPopd                   9693\nCobs                   9693\nTortilla               9580\nTostitos               9471\nTwisties               9454\nSensations             9429\nPaso                   9324\nOld                    9324\nEl                     9324\nDip                    9324\nSweet                  7883\nLime                   7852\nTomato                 7669\nCream                  7618\nThinly                 7507\nTyrrells               6442\n380g                   6418\nAnd                    6373\nBBQ                    6351\nTangy                  6332\nWaves                  6272\nGrain                  6272\nLightly                6248\nSalted                 6248\nSoy                    6121\nNatural                6050\nMild                   6048\nRed                    5885\nRock                   5885\nDeli                   5885\nThai                   4737\nBurger                 4733\nSwt                    4718\nChives                 4687\nHoney                  4661\nNacho                  4658\nPotato                 4647\nCheezels               4603\nCCs                    4551\n200g                   4473\nWoolworths             4437\nPesto                  3304\nBasil                  3304\nMozzarella             3304\nChili                  3296\nChpsHny&Jlpno          3296\n&Sr/Cream              3269\nSwt/Chlli              3269\nChed                   3268\n135g                   3257\nPot                    3257\nOf                     3252\nSplash                 3252\nSweetChili             3242\nPotatoMix              3242\nBag                    3233\nBig                    3233\nOrgnl                  3233\nCrnkle                 3233\nSpicy                  3229\nHot                    3229\nCamembert              3219\nFig                    3219\nBarbeque               3210\nMexican                3204\nJalapeno               3204\nLight&                 3188\nChp                    3185\nDorito                 3185\nSweet&Spcy             3177\nCrackers               3174\nPrawn                  3174\nRib                    3174\nSouthern               3172\nChicken270g            3170\n250g                   3169\n210g                   3167\nOnion                  3162\nSourCream              3162\n&Chives                3159\nCrm                    3159\nChpsBtroot&Ricotta     3146\nChipotle               3145\nSmoked                 3145\nCrn                    3144\nGcamole                3144\nCrnchers               3144\nInfzns                 3144\nChpsFeta&Garlic        3138\nStrws                  3134\nSourCream&Herbs        3134\nVeg                    3134\nSiracha                3127\nHt300g                 3125\nTom                    3125\nChnky                  3125\n270g                   3115\nMexicana               3115\nMystery                3114\nSeasonedchicken        3114\nFlavour                3114\nMed                    3114\nCream&Chives           3105\n210G                   3105\nCrips                  3104\nVingar                 3095\nSlt                    3095\nFriedChicken           3083\nSthrn                  3083\nBBQ&Maple              3083\nRings                  3080\nChipCo                 3010\n90g                    3008\n190g                   2995\nSR                     2984\n160g                   2970\nSmith                  2963\nCheetos                2927\nMedium                 2879\nFrench                 2856\nWhlgrn                 1576\nSnbts                  1576\nCheddr&Mstrd           1576\nTmato                  1572\nHrb&Spce               1572\nCo                     1572\n220g                   1564\nVinegr                 1550\nTasty                  1539\nBelly                  1526\nSlow                   1526\nRst                    1526\nPork                   1526\nRoast                  1519\nMac                    1512\nN                      1512\n70g                    1507\nPapadums               1507\nChutny                 1507\nMango                  1507\nChilli&                1506\nCoconut                1506\nSnag&Sauce             1503\n150G                   1498\nTruffle                1498\nSp                     1498\nChilli&Lime            1495\nBarbecue               1489\nStacked                1487\n&OnionStacked          1483\nChs&Onion170g          1481\nChs                    1479\nBacon                  1479\nBalls                  1479\nPepper                 1473\nS/Cream&Onion          1473\nD/Style                1469\nJam                    1468\n180g                   1468\nBtroot                 1468\nPlus                   1468\nGrnWves                1468\nSeaSalt175g            1468\nCompny                 1468\nChli&S/Cream175G       1461\nChckn175g              1460\nHony                   1460\nMzzrlla                1458\nSteak                  1455\nChimuchurri            1455\nBox                    1454\n125g                   1454\nBolognese              1451\nPuffs                  1448\nOriginl                1441\nsaltd                  1441\nCutSalt/Vinegr175g     1440\nOnionDip               1438\nChikn&Garlic           1434\nAioli                  1434\nFrch/Onin              1432\nWhlegrn                1432\nSunbites               1432\nPc                     1431\nNCC                    1419\nGarden                 1419\nFries                  1418\ndtype: int64\n"
     ]
    }
   ],
   "source": [
    "# initalize word_count\n",
    "word_count = {}\n",
    "# apply product_unique_words function to each row of the product_words list\n",
    "product_words.apply(lambda row: product_unique_words(row))\n",
    "# change product words to series and sort values with largest at top\n",
    "print(pd.Series(word_count).sort_values(ascending=False))"
   ]
  },
  {
   "source": [
    "From the output above we can see that the datset contains products with 'Salsa' in it - we should remove these values"
   ],
   "cell_type": "markdown",
   "metadata": {}
  }
 ]
}